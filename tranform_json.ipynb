{
 "cells": [
  {
   "cell_type": "code",
   "execution_count": 25,
   "metadata": {},
   "outputs": [],
   "source": [
    "import pickle\n",
    "import json"
   ]
  },
  {
   "cell_type": "code",
   "execution_count": 2,
   "metadata": {},
   "outputs": [],
   "source": [
    "# Loading the array with json objects inside\n",
    "file = open(\"all_pages_json.pkl\", \"rb\")\n",
    "saved_links = pickle.load(file)\n",
    "file.close()"
   ]
  },
  {
   "cell_type": "code",
   "execution_count": 35,
   "metadata": {},
   "outputs": [],
   "source": [
    "courses = []\n",
    "\n",
    "for page in saved_links:\n",
    "    for course in page[\"corsi\"]:\n",
    "        comune = lambda x : x[\"comuneDescrizione\"] if x else \"Comune assente\"\n",
    "        if course[\"nomeCorso\"]:\n",
    "            courses.append(\n",
    "                {\n",
    "                    \"nome\": course[\"nomeCorso\"],\n",
    "                    \"link\": course[\"url\"],\n",
    "                    \"tipo\": course[\"tipoLaurea\"][\"descrizione\"],\n",
    "                    \"uni\": course[\"nomeStruttura\"],\n",
    "                    \"accesso\": course[\"programmazione\"][\"descrizione\"],\n",
    "                    \"durata\": course[\"durataAnni\"],\n",
    "                    \"lingua\": course[\"lingua\"],\n",
    "                    \"comune\": comune(course[\"sede\"])\n",
    "                }\n",
    "        )"
   ]
  },
  {
   "cell_type": "code",
   "execution_count": 33,
   "metadata": {},
   "outputs": [],
   "source": [
    "with open(\"db.json\", \"w\") as outfile:\n",
    "    json.dump(courses, outfile, ensure_ascii=False)"
   ]
  }
 ],
 "metadata": {
  "kernelspec": {
   "display_name": "base",
   "language": "python",
   "name": "python3"
  },
  "language_info": {
   "codemirror_mode": {
    "name": "ipython",
    "version": 3
   },
   "file_extension": ".py",
   "mimetype": "text/x-python",
   "name": "python",
   "nbconvert_exporter": "python",
   "pygments_lexer": "ipython3",
   "version": "3.11.3"
  },
  "orig_nbformat": 4
 },
 "nbformat": 4,
 "nbformat_minor": 2
}
