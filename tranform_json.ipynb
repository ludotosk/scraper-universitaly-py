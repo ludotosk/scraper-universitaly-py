{
 "cells": [
  {
   "cell_type": "code",
   "execution_count": 1,
   "metadata": {},
   "outputs": [],
   "source": [
    "import pickle\n",
    "import json"
   ]
  },
  {
   "cell_type": "code",
   "execution_count": 2,
   "metadata": {},
   "outputs": [],
   "source": [
    "# Loading the array with json objects inside\n",
    "file = open(\"all_pages_json.pkl\", \"rb\")\n",
    "saved_links = pickle.load(file)\n",
    "file.close()"
   ]
  },
  {
   "cell_type": "code",
   "execution_count": 13,
   "metadata": {},
   "outputs": [
    {
     "name": "stdout",
     "output_type": "stream",
     "text": [
      "Numero di corsi:  5249\n",
      "Rimossi:  4\n"
     ]
    }
   ],
   "source": [
    "courses = []\n",
    "removed = 0\n",
    "\n",
    "for page in saved_links:\n",
    "    for course in page[\"corsi\"]:\n",
    "        comune = lambda x : x[\"comuneDescrizione\"] if x else \"Comune assente\"\n",
    "        if course[\"nomeCorso\"]:\n",
    "            lingua = lambda x: \"Più lingue\" if x == \"mu\" else x\n",
    "            courses.append(\n",
    "                {\n",
    "                    \"nome\": course[\"nomeCorso\"].strip().capitalize().replace('&#8203;', ''), # cleaning and capitalizing names\n",
    "                    \"link\": course[\"url\"],\n",
    "                    \"tipo\": course[\"tipoLaurea\"][\"descrizione\"],\n",
    "                    \"uni\": course[\"nomeStruttura\"],\n",
    "                    \"accesso\": course[\"programmazione\"][\"descrizione\"],\n",
    "                    \"area\": course[\"area\"],\n",
    "                    \"lingua\": lingua(course[\"lingua\"]),\n",
    "                    \"comune\": comune(course[\"sede\"])\n",
    "                }\n",
    "        ) \n",
    "        else: \n",
    "            removed += 1\n",
    "            \n",
    "# sorting by name\n",
    "courses = sorted(courses, key=lambda x: x[\"nome\"])\n",
    "print(\"Numero di corsi: \", len(courses))\n",
    "print(\"Rimossi: \", removed)"
   ]
  },
  {
   "cell_type": "code",
   "execution_count": 14,
   "metadata": {},
   "outputs": [],
   "source": [
    "with open(\"db.json\", \"w\") as outfile:\n",
    "    json.dump(courses, outfile, ensure_ascii=False)"
   ]
  }
 ],
 "metadata": {
  "kernelspec": {
   "display_name": "base",
   "language": "python",
   "name": "python3"
  },
  "language_info": {
   "codemirror_mode": {
    "name": "ipython",
    "version": 3
   },
   "file_extension": ".py",
   "mimetype": "text/x-python",
   "name": "python",
   "nbconvert_exporter": "python",
   "pygments_lexer": "ipython3",
   "version": "3.11.3"
  },
  "orig_nbformat": 4
 },
 "nbformat": 4,
 "nbformat_minor": 2
}
