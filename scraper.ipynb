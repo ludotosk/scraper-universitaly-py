{
 "cells": [
  {
   "cell_type": "code",
   "execution_count": 7,
   "id": "9c68176d-8ce7-402c-a0be-4c2a19398e71",
   "metadata": {},
   "outputs": [],
   "source": [
    "import requests\n",
    "import json\n",
    "from tqdm import tqdm\n",
    "import pickle"
   ]
  },
  {
   "cell_type": "code",
   "execution_count": 8,
   "id": "d21a9ebe",
   "metadata": {},
   "outputs": [
    {
     "name": "stderr",
     "output_type": "stream",
     "text": [
      "100%|██████████| 525/525 [03:04<00:00,  2.84it/s]\n"
     ]
    }
   ],
   "source": [
    "# getting the json of the first page and extracting the number of pages\n",
    "first_page = requests.get(\n",
    "    \"https://universitaly-backend.cineca.it/api/offerta-formativa/cerca-corsi?searchType=u&page=1&tipoLaurea=1,2,3&durata=6,5,3,2&lingua=EN,IT&tipoAccesso=3,2,1&searchText&area\"\n",
    ").text\n",
    "result = json.loads(first_page)\n",
    "number_of_pages = result[\"totalPages\"]\n",
    "\n",
    "saved_json = [result]\n",
    "\n",
    "for i in tqdm(range(2, number_of_pages + 1)):\n",
    "    page = requests.get(\n",
    "        f\"https://universitaly-backend.cineca.it/api/offerta-formativa/cerca-corsi?searchType=u&page={i}&tipoLaurea=1,2,3&durata=6,5,3,2&lingua=EN,IT&tipoAccesso=3,2,1&searchText&area\"\n",
    "    ).text\n",
    "    result = json.loads(page)\n",
    "\n",
    "    saved_json.append(result)\n",
    "\n",
    "# saving the json in a pickle file\n",
    "file_name = \"all_pages_json.pkl\"\n",
    "\n",
    "file = open(file_name, \"wb\")\n",
    "pickle.dump(saved_json, file)\n",
    "file.close()"
   ]
  }
 ],
 "metadata": {
  "kernelspec": {
   "display_name": "Python 3 (ipykernel)",
   "language": "python",
   "name": "python3"
  },
  "language_info": {
   "codemirror_mode": {
    "name": "ipython",
    "version": 3
   },
   "file_extension": ".py",
   "mimetype": "text/x-python",
   "name": "python",
   "nbconvert_exporter": "python",
   "pygments_lexer": "ipython3",
   "version": "3.11.3"
  }
 },
 "nbformat": 4,
 "nbformat_minor": 5
}
